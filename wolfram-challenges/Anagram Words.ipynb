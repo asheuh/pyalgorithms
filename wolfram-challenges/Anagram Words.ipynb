{
 "cells": [
  {
   "cell_type": "markdown",
   "id": "d1c337be-b7f9-464b-9f93-84db3d4b4b6a",
   "metadata": {},
   "source": [
    "# [Original Problem - Wolfram](https://challenges.wolframcloud.com/challenge/anagram-words)\n",
    "\n",
    "## Anagram Words\n",
    "\n",
    "An anagram is a word or phrase created by rearranging the letters of another word or phrase. Write a function that takes a word and uses the dictionary to return a list of anagrams.\n",
    "The possible anagrams of the word \"past\" are \"spat\", \"pats\", and \"taps\". Find a way to identify anagrams of a given word.\n",
    "\n",
    "### What Your Function Should Do\n",
    "\n",
    "Write a function called Anagrams that takes a word string and outputs the list of words in DictionaryLookup[] that are anagrams of the input, together with the original input. Give the result in alphabetical order.\n",
    "\n",
    "```\n",
    "In[1]:= Anagrams[\"burned\"]\n",
    "Out[1]= {burden, burned}\n",
    "```\n",
    "\n",
    "#### More Examples\n",
    "```\n",
    "In[2]:= Anagrams[\"past\"]\n",
    "Out[2]= {past, pats, spat, taps}\n",
    "\n",
    "In[3]:= Anagrams[\"disease\"]\n",
    "Out[3]= {disease, seaside}\n",
    "\n",
    "In[4]:= Anagrams[\"infests\"]\n",
    "Out[4]= {fitness, infests}\n",
    "\n",
    "In[5]:= Anagrams[\"manures\"]\n",
    "Out[5]= {manures, surname}\n",
    "\n",
    "In[6]:= Anagrams[\"listen\"]\n",
    "Out[6]= {enlist, inlets, listen, silent, tinsel}\n",
    "\n",
    "In[7]:= Anagrams[\"caters\"]\n",
    "Out[7]= {carets, caster, caters, crates, reacts, recast, traces}\n",
    "```"
   ]
  },
  {
   "cell_type": "code",
   "execution_count": 41,
   "id": "ad04996d-0057-401e-9686-9a7ea1f38999",
   "metadata": {},
   "outputs": [],
   "source": [
    "# Get dictionary words\n",
    "WORDS = open('../codebreak/canyouhackit/data/words.txt').read().split('\\n')"
   ]
  },
  {
   "cell_type": "code",
   "execution_count": 42,
   "id": "d90a9fb5-d583-4216-b696-32ce9404a772",
   "metadata": {},
   "outputs": [
    {
     "name": "stdout",
     "output_type": "stream",
     "text": [
      "['past', 'pats', 'spat', 'stap', 'taps', 'apts']\n"
     ]
    }
   ],
   "source": [
    "def anagram_words(word: str):\n",
    "    anagrams = []\n",
    "    stack = [word]\n",
    "    seen = {}\n",
    "    words = {w: True for w in WORDS}\n",
    "\n",
    "    while stack:\n",
    "        current = stack.pop()\n",
    "        if current not in seen:\n",
    "            # Find anagrams\n",
    "            i = 0\n",
    "            j = 1\n",
    "            n = len(current)\n",
    "            cur = [c for c in current]\n",
    "\n",
    "            while j < n:\n",
    "                cur[i], cur[j] = cur[j], cur[i]\n",
    "                new_word = ''.join(cur)\n",
    "                stack.append(new_word)\n",
    "                i += 1\n",
    "                j += 1\n",
    "\n",
    "            seen[current] = True\n",
    "            if words.get(current): # Check if word is in the dictionary of english words\n",
    "                anagrams.append(current)\n",
    "            \n",
    "            if current == word and not words.get(current):\n",
    "                anagrams.append(current)\n",
    "    return anagrams\n",
    "\n",
    "word = 'past'\n",
    "res = anagram_words(word)\n",
    "print(res)"
   ]
  },
  {
   "cell_type": "code",
   "execution_count": 43,
   "id": "ab3b2e03-3fbf-418b-b9fb-8241bfd0ea74",
   "metadata": {},
   "outputs": [
    {
     "name": "stdout",
     "output_type": "stream",
     "text": [
      "['burned', 'burden', 'unbred']\n"
     ]
    }
   ],
   "source": [
    "word = 'burned'\n",
    "res = anagram_words(word)\n",
    "print(res)"
   ]
  },
  {
   "cell_type": "code",
   "execution_count": 44,
   "id": "2ca12993-7371-44ca-92f2-987f79477477",
   "metadata": {},
   "outputs": [
    {
     "name": "stdout",
     "output_type": "stream",
     "text": [
      "['disease']\n"
     ]
    }
   ],
   "source": [
    "word = 'disease'\n",
    "res = anagram_words(word)\n",
    "print(res)"
   ]
  },
  {
   "cell_type": "code",
   "execution_count": 45,
   "id": "59c5c797-7a28-48da-abc6-54c3daa893c8",
   "metadata": {},
   "outputs": [
    {
     "name": "stdout",
     "output_type": "stream",
     "text": [
      "['infests', 'fitness']\n"
     ]
    }
   ],
   "source": [
    "word = 'infests'\n",
    "res = anagram_words(word)\n",
    "print(res)"
   ]
  },
  {
   "cell_type": "code",
   "execution_count": 46,
   "id": "2168bd78-1c5f-4fd5-aea5-e26cca58b7e5",
   "metadata": {},
   "outputs": [
    {
     "name": "stdout",
     "output_type": "stream",
     "text": [
      "['manures', 'surname']\n"
     ]
    }
   ],
   "source": [
    "word = 'manures'\n",
    "res = anagram_words(word)\n",
    "print(res)"
   ]
  },
  {
   "cell_type": "code",
   "execution_count": 47,
   "id": "4eaebdbb-3c0b-407b-a644-a46101cc9383",
   "metadata": {},
   "outputs": [
    {
     "name": "stdout",
     "output_type": "stream",
     "text": [
      "['listen', 'enlist', 'tinsel', 'inlets', 'slinte', 'elints', 'silent']\n"
     ]
    }
   ],
   "source": [
    "word = 'listen'\n",
    "res = anagram_words(word)\n",
    "print(res)"
   ]
  },
  {
   "cell_type": "code",
   "execution_count": 48,
   "id": "60147e31-be20-4742-89a9-2c42963ce908",
   "metadata": {},
   "outputs": [
    {
     "name": "stdout",
     "output_type": "stream",
     "text": [
      "['caters', 'carets', 'crates', 'cartes', 'carest', 'traces', 'reacts', 'recast']\n"
     ]
    }
   ],
   "source": [
    "word = 'caters'\n",
    "res = anagram_words(word)\n",
    "print(res)"
   ]
  },
  {
   "cell_type": "code",
   "execution_count": null,
   "id": "a29fe93c-db65-4849-9d04-2bb6e91c8c02",
   "metadata": {},
   "outputs": [],
   "source": []
  }
 ],
 "metadata": {
  "kernelspec": {
   "display_name": "Python 3 (ipykernel)",
   "language": "python",
   "name": "python3"
  },
  "language_info": {
   "codemirror_mode": {
    "name": "ipython",
    "version": 3
   },
   "file_extension": ".py",
   "mimetype": "text/x-python",
   "name": "python",
   "nbconvert_exporter": "python",
   "pygments_lexer": "ipython3",
   "version": "3.11.1"
  }
 },
 "nbformat": 4,
 "nbformat_minor": 5
}
