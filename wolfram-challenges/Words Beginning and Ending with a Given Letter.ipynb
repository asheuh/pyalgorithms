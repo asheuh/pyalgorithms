{
 "cells": [
  {
   "cell_type": "markdown",
   "id": "aa796da8-e679-4b92-8743-02fa632e1a1b",
   "metadata": {},
   "source": [
    "# [Original Problem - Wolfram](https://challenges.wolframcloud.com/challenge/words-beginning-and-ending-with-a-given-letter)\n",
    "\n",
    "## Words Beginning and Ending with a Given Letter\n",
    "\n",
    "Find all words that begin and end with a given letter.\n",
    "\n",
    "### What Your Function Should Do\n",
    "Write a function SameStartEndWords that takes one of the letters \"a\" through \"z\" as input and returns the list of all words in WordList that begin and end with the input. Return your answer in alphabetical order.\n",
    "\n",
    "```\n",
    "In[1]:= SameStartEndWords[\"b\"]\n",
    "Out[1]= {baobab, barb, bathtub, bedaub, benumb, bib, blab, blob, blurb, bob, bomb, boob, breadcrumb, brewpub, bulb}\n",
    "\n",
    "In[2]:= SameStartEndWords[\"y\"]\n",
    "Out[2]= {yearly, yearningly, yeasty, yeomanry, yesterday, youthfully, yucky, yummy}\n",
    "\n",
    "Some letters have many such words:\n",
    "\n",
    "In[3]:= SameStartEndWords[\"e\"] // Length\n",
    "Out[3]= 343\n",
    "\n",
    "Some letters have no such words:\n",
    "In[4]:= SameStartEndWords[\"q\"]\n",
    "Out[4]= {}\n",
    "```"
   ]
  },
  {
   "cell_type": "code",
   "execution_count": 1,
   "id": "ea135c08-af7d-48e8-9d91-1b7a40d2fa45",
   "metadata": {},
   "outputs": [
    {
     "name": "stdout",
     "output_type": "stream",
     "text": [
      "['baobab', 'barb']\n"
     ]
    }
   ],
   "source": [
    "# Problem: https://challenges.wolframcloud.com/challenge/words-beginning-and-ending-with-a-given-letter\n",
    "\n",
    "from typing import List\n",
    "\n",
    "\n",
    "def same_start_end_words(letter: str, wordlist: List[str]) -> List[str]:\n",
    "    results = []\n",
    "\n",
    "    for word in wordlist:\n",
    "        if word.startswith(letter) and word.endswith(letter):\n",
    "            results.append(word)\n",
    "    return results\n",
    "\n",
    "\n",
    "if __name__ == '__main__':\n",
    "    wordlist = ['brian', 'baobab', 'barb', 'year', 'yucky', 'today', 'yes', 'nowhere']\n",
    "    res = same_start_end_words('b', wordlist)\n",
    "    print(res)"
   ]
  },
  {
   "cell_type": "code",
   "execution_count": null,
   "id": "b775d95c-7d1d-4959-aab3-be1363988e17",
   "metadata": {},
   "outputs": [],
   "source": []
  }
 ],
 "metadata": {
  "kernelspec": {
   "display_name": "Python 3 (ipykernel)",
   "language": "python",
   "name": "python3"
  },
  "language_info": {
   "codemirror_mode": {
    "name": "ipython",
    "version": 3
   },
   "file_extension": ".py",
   "mimetype": "text/x-python",
   "name": "python",
   "nbconvert_exporter": "python",
   "pygments_lexer": "ipython3",
   "version": "3.11.1"
  }
 },
 "nbformat": 4,
 "nbformat_minor": 5
}
