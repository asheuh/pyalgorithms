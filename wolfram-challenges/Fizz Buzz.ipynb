{
 "cells": [
  {
   "cell_type": "markdown",
   "id": "6ec95e97-3c98-4870-aaa6-ef7b1a5d069f",
   "metadata": {},
   "source": [
    "# [Original Problem - Wolfram](https://challenges.wolframcloud.com/challenge/fizz-buzz)\n",
    "\n",
    "## Fizz Buzz\n",
    "\n",
    "Given a list of integers from 1 to n, write a function that replaces multiples of 3 with \"fizz\", multiples of 5 with \"buzz\", multiples of both 3 and 5 with \"fizzbuzz\" and leaves other numbers fixed.\n",
    "For example, the input 7 gives the list:\n",
    "\n",
    "```\n",
    "In[1]:= {1, 2, \"fizz\", 4, \"buzz\", \"fizz\", 7}\n",
    "```\n",
    "\n",
    "### What Your Function Should Do\n",
    "\n",
    "Write a function called FizzBuzz that takes a positive integer n. The function returns a list of the integers from 1 to n, with multiples of 3 replaced by \"fizz\", multiples of 5 replaced by \"buzz\" and multiples of both 3 and 5 replaced by \"fizzbuzz\".\n",
    "\n",
    "```\n",
    "In[2]:= FizzBuzz[20]\n",
    "Out[2]= {1, 2, fizz, 4, buzz, fizz, 7, 8, fizz, buzz, 11, fizz, 13, 14, fizzbuzz, 16, 17, fizz, 19, buzz}\n",
    "```\n",
    "\n",
    "All instances of \"fizz\", \"buzz\" and \"fizzbuzz\" should be returned as strings and all other elements should be integers:\n",
    "\n",
    "```\n",
    "In[3]:= FizzBuzz[10] // InputForm\n",
    "Out[3]= {1, 2, fizz, 4, buzz, fizz, 7, 8, fizz, buzz}\n",
    "In[4]:= Head /@ %\n",
    "Out[4]= {Integer, Integer, String, Integer, String, String, Integer, Integer, String, String}\n",
    "```\n",
    "\n",
    "#### More Examples\n",
    "\n",
    "```\n",
    "In[5]:= FizzBuzz[100]\n",
    "Out[5]= {1, 2, fizz, 4, buzz, fizz, 7, 8, fizz, buzz, 11, fizz, 13, 14, fizzbuzz, 16, 17, fizz, 19, buzz, fizz, 22, 23, fizz, buzz, 26, fizz, 28, 29, fizzbuzz, 31, 32, fizz, 34, buzz, fizz, 37, 38, fizz, buzz, 41, fizz, 43, 44, fizzbuzz, 46, 47, fizz, 49, buzz, fizz, 52, 53, fizz, buzz, 56, fizz, 58, 59, fizzbuzz, 61, 62, fizz, 64, buzz, fizz, 67, 68, fizz, buzz, 71, fizz, 73, 74, fizzbuzz, 76, 77, fizz, 79, buzz, fizz, 82, 83, fizz, buzz, 86, fizz, 88, 89, fizzbuzz, 91, 92, fizz, 94, buzz, fizz, 97, 98, fizz, buzz}\n",
    "```"
   ]
  },
  {
   "cell_type": "code",
   "execution_count": 1,
   "id": "2e568412-12c7-451a-9144-e1a90c6d42f1",
   "metadata": {},
   "outputs": [
    {
     "name": "stdout",
     "output_type": "stream",
     "text": [
      "[1, 2, 'fizz', 4, 'buzz', 'fizz', 7, 8, 'fizz', 'buzz', 11, 'fizz', 13, 14, 'fizz', 16, 17, 'fizz', 19, 'buzz', 'fizz', 22, 23, 'fizz', 'buzz', 26, 'fizz', 28, 29, 'fizz', 31, 32, 'fizz', 34, 'buzz', 'fizz', 37, 38, 'fizz', 'buzz', 41, 'fizz', 43, 44, 'fizz', 46, 47, 'fizz', 49, 'buzz', 'fizz', 52, 53, 'fizz', 'buzz', 56, 'fizz', 58, 59, 'fizz', 61, 62, 'fizz', 64, 'buzz', 'fizz', 67, 68, 'fizz', 'buzz', 71, 'fizz', 73, 74, 'fizz', 76, 77, 'fizz', 79, 'buzz', 'fizz', 82, 83, 'fizz', 'buzz', 86, 'fizz', 88, 89, 'fizz', 91, 92, 'fizz', 94, 'buzz', 'fizz', 97, 98, 'fizz', 'buzz', 101, 'fizz', 103, 104, 'fizz', 106, 107, 'fizz', 109, 'buzz', 'fizz', 112, 113, 'fizz', 'buzz', 116, 'fizz', 118, 119, 'fizz', 121, 122, 'fizz', 124, 'buzz', 'fizz', 127, 128, 'fizz', 'buzz', 131, 'fizz', 133, 134, 'fizz', 136, 137, 'fizz', 139, 'buzz', 'fizz', 142, 143, 'fizz', 'buzz', 146, 'fizz', 148, 149, 'fizz', 151, 152, 'fizz', 154, 'buzz', 'fizz', 157, 158, 'fizz', 'buzz', 161, 'fizz', 163, 164, 'fizz', 166, 167, 'fizz', 169, 'buzz', 'fizz', 172, 173, 'fizz', 'buzz', 176, 'fizz', 178, 179, 'fizz', 181, 182, 'fizz', 184, 'buzz', 'fizz', 187, 188, 'fizz', 'buzz', 191, 'fizz', 193, 194, 'fizz', 196, 197, 'fizz', 199, 'buzz', 'fizz', 202, 203, 'fizz', 'buzz', 206, 'fizz', 208, 209, 'fizz', 211, 212, 'fizz', 214, 'buzz', 'fizz', 217, 218, 'fizz', 'buzz', 221, 'fizz', 223, 224, 'fizz', 226, 227, 'fizz', 229, 'buzz', 'fizz', 232, 233, 'fizz', 'buzz', 236, 'fizz', 238, 239, 'fizz', 241, 242, 'fizz', 244, 'buzz', 'fizz', 247, 248, 'fizz', 'buzz', 251, 'fizz', 253, 254, 'fizz', 256, 257, 'fizz', 259, 'buzz', 'fizz', 262, 263, 'fizz', 'buzz', 266, 'fizz', 268, 269, 'fizz', 271, 272, 'fizz', 274, 'buzz', 'fizz', 277, 278, 'fizz', 'buzz', 281, 'fizz', 283, 284, 'fizz', 286, 287, 'fizz', 289, 'buzz', 'fizz', 292, 293, 'fizz', 'buzz', 296, 'fizz', 298, 299, 'fizz', 301, 302, 'fizz', 304, 'buzz', 'fizz', 307, 308, 'fizz', 'buzz', 311, 'fizz', 313, 314, 'fizz', 316, 317, 'fizz', 319, 'buzz', 'fizz', 322, 323, 'fizz', 'buzz', 326, 'fizz', 328, 329, 'fizz', 331, 332, 'fizz', 334, 'buzz', 'fizz', 337, 338, 'fizz', 'buzz', 341, 'fizz', 343, 344, 'fizz', 346, 347, 'fizz', 349, 'buzz', 'fizz', 352, 353, 'fizz', 'buzz', 356, 'fizz', 358, 359, 'fizz', 361, 362, 'fizz', 364, 'buzz', 'fizz', 367, 368, 'fizz', 'buzz', 371, 'fizz', 373, 374, 'fizz', 376, 377, 'fizz', 379, 'buzz', 'fizz', 382, 383, 'fizz', 'buzz', 386, 'fizz', 388, 389, 'fizz', 391, 392, 'fizz', 394, 'buzz', 'fizz', 397, 398, 'fizz', 'buzz', 401, 'fizz', 403, 404, 'fizz', 406, 407, 'fizz', 409, 'buzz', 'fizz', 412, 413, 'fizz', 'buzz', 416, 'fizz', 418, 419, 'fizz', 421, 422, 'fizz', 424, 'buzz', 'fizz', 427, 428, 'fizz', 'buzz', 431, 'fizz', 433, 434, 'fizz', 436, 437, 'fizz', 439, 'buzz', 'fizz', 442, 443, 'fizz', 'buzz', 446, 'fizz', 448, 449, 'fizz', 451, 452, 'fizz', 454, 'buzz', 'fizz', 457, 458, 'fizz', 'buzz', 461, 'fizz', 463, 464, 'fizz', 466, 467, 'fizz', 469, 'buzz', 'fizz', 472, 473, 'fizz', 'buzz', 476, 'fizz', 478, 479, 'fizz', 481, 482, 'fizz', 484, 'buzz', 'fizz', 487, 488, 'fizz', 'buzz', 491, 'fizz', 493, 494, 'fizz', 496, 497, 'fizz', 499, 'buzz', 'fizz', 502, 503, 'fizz', 'buzz', 506, 'fizz', 508, 509, 'fizz', 511, 512, 'fizz', 514, 'buzz', 'fizz', 517, 518, 'fizz', 'buzz', 521, 'fizz', 523, 524, 'fizz', 526, 527, 'fizz', 529, 'buzz', 'fizz', 532, 533, 'fizz', 'buzz', 536, 'fizz', 538, 539, 'fizz', 541, 542, 'fizz', 544, 'buzz', 'fizz', 547, 548, 'fizz', 'buzz', 551, 'fizz', 553, 554, 'fizz', 556, 557, 'fizz', 559, 'buzz', 'fizz', 562, 563, 'fizz', 'buzz', 566, 'fizz', 568, 569, 'fizz', 571, 572, 'fizz', 574, 'buzz', 'fizz', 577, 578, 'fizz', 'buzz', 581, 'fizz', 583, 584, 'fizz', 586, 587, 'fizz', 589, 'buzz', 'fizz', 592, 593, 'fizz', 'buzz', 596, 'fizz', 598, 599, 'fizz', 601, 602, 'fizz', 604, 'buzz', 'fizz', 607, 608, 'fizz', 'buzz', 611, 'fizz', 613, 614, 'fizz', 616, 617, 'fizz', 619, 'buzz', 'fizz', 622, 623, 'fizz', 'buzz', 626, 'fizz', 628, 629, 'fizz', 631, 632, 'fizz', 634, 'buzz', 'fizz', 637, 638, 'fizz', 'buzz', 641, 'fizz', 643, 644, 'fizz', 646, 647, 'fizz', 649, 'buzz', 'fizz', 652, 653, 'fizz', 'buzz', 656, 'fizz', 658, 659, 'fizz', 661, 662, 'fizz', 664, 'buzz', 'fizz', 667, 668, 'fizz', 'buzz', 671, 'fizz', 673, 674, 'fizz', 676, 677, 'fizz', 679, 'buzz', 'fizz', 682, 683, 'fizz', 'buzz', 686, 'fizz', 688, 689, 'fizz', 691, 692, 'fizz', 694, 'buzz', 'fizz', 697, 698, 'fizz', 'buzz', 701, 'fizz', 703, 704, 'fizz', 706, 707, 'fizz', 709, 'buzz', 'fizz', 712, 713, 'fizz', 'buzz', 716, 'fizz', 718, 719, 'fizz', 721, 722, 'fizz', 724, 'buzz', 'fizz', 727, 728, 'fizz', 'buzz', 731, 'fizz', 733, 734, 'fizz', 736, 737, 'fizz', 739, 'buzz', 'fizz', 742, 743, 'fizz', 'buzz', 746, 'fizz', 748, 749, 'fizz', 751, 752, 'fizz', 754, 'buzz', 'fizz', 757, 758, 'fizz', 'buzz', 761, 'fizz', 763, 764, 'fizz', 766, 767, 'fizz', 769, 'buzz', 'fizz', 772, 773, 'fizz', 'buzz', 776, 'fizz', 778, 779, 'fizz', 781, 782, 'fizz', 784, 'buzz', 'fizz', 787, 788, 'fizz', 'buzz', 791, 'fizz', 793, 794, 'fizz', 796, 797, 'fizz', 799, 'buzz', 'fizz', 802, 803, 'fizz', 'buzz', 806, 'fizz', 808, 809, 'fizz', 811, 812, 'fizz', 814, 'buzz', 'fizz', 817, 818, 'fizz', 'buzz', 821, 'fizz', 823, 824, 'fizz', 826, 827, 'fizz', 829, 'buzz', 'fizz', 832, 833, 'fizz', 'buzz', 836, 'fizz', 838, 839, 'fizz', 841, 842, 'fizz', 844, 'buzz', 'fizz', 847, 848, 'fizz', 'buzz', 851, 'fizz', 853, 854, 'fizz', 856, 857, 'fizz', 859, 'buzz', 'fizz', 862, 863, 'fizz', 'buzz', 866, 'fizz', 868, 869, 'fizz', 871, 872, 'fizz', 874, 'buzz', 'fizz', 877, 878, 'fizz', 'buzz', 881, 'fizz', 883, 884, 'fizz', 886, 887, 'fizz', 889, 'buzz', 'fizz', 892, 893, 'fizz', 'buzz', 896, 'fizz', 898, 899, 'fizz', 901, 902, 'fizz', 904, 'buzz', 'fizz', 907, 908, 'fizz', 'buzz', 911, 'fizz', 913, 914, 'fizz', 916, 917, 'fizz', 919, 'buzz', 'fizz', 922, 923, 'fizz', 'buzz', 926, 'fizz', 928, 929, 'fizz', 931, 932, 'fizz', 934, 'buzz', 'fizz', 937, 938, 'fizz', 'buzz', 941, 'fizz', 943, 944, 'fizz', 946, 947, 'fizz', 949, 'buzz', 'fizz', 952, 953, 'fizz', 'buzz', 956, 'fizz', 958, 959, 'fizz', 961, 962, 'fizz', 964, 'buzz', 'fizz', 967, 968, 'fizz', 'buzz', 971, 'fizz', 973, 974, 'fizz', 976, 977, 'fizz', 979, 'buzz', 'fizz', 982, 983, 'fizz', 'buzz', 986, 'fizz', 988, 989, 'fizz', 991, 992, 'fizz', 994, 'buzz', 'fizz', 997, 998, 'fizz', 'buzz']\n"
     ]
    }
   ],
   "source": [
    "def fizzbuzz(n):\n",
    "    results = []\n",
    "\n",
    "    for i in range(1, n + 1): # Multiple of 3\n",
    "        k = i\n",
    "        if i % 3 == 0:\n",
    "            k = 'fizz'\n",
    "        elif i % 5 == 0: # Multiple if 5\n",
    "            k = 'buzz'\n",
    "        elif (i % 5) == 0 == (i % 3): # Multiple of both 3 and 5\n",
    "            k = 'fizzbuzz'\n",
    "        results.append(k)\n",
    "    return results\n",
    "\n",
    "\n",
    "n = 1000\n",
    "res = fizzbuzz(n)\n",
    "print(res)\n"
   ]
  },
  {
   "cell_type": "code",
   "execution_count": null,
   "id": "5169f457-aa12-4df2-a139-570794853fa6",
   "metadata": {},
   "outputs": [],
   "source": []
  }
 ],
 "metadata": {
  "kernelspec": {
   "display_name": "Python 3 (ipykernel)",
   "language": "python",
   "name": "python3"
  },
  "language_info": {
   "codemirror_mode": {
    "name": "ipython",
    "version": 3
   },
   "file_extension": ".py",
   "mimetype": "text/x-python",
   "name": "python",
   "nbconvert_exporter": "python",
   "pygments_lexer": "ipython3",
   "version": "3.11.1"
  }
 },
 "nbformat": 4,
 "nbformat_minor": 5
}
