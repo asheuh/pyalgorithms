{
 "cells": [
  {
   "cell_type": "markdown",
   "id": "939cdb80-f932-49dd-911e-ffc0560c3447",
   "metadata": {},
   "source": [
    "# [Original Problem - Wolfram](https://challenges.wolframcloud.com/challenge/getting-a-basketball-score)\n",
    "\n",
    "## Getting a Basketball Score\n",
    "\n",
    "Write a function that takes an integer n and outputs all the possible ways to represent n as sums of 2s and 3s.\n",
    "In basketball, ignoring free throws, there are two possible ways you can score: a two-pointer or a three-pointer. Therefore, a team's score can be decomposed into a sum of 2s and 3s, possibly in many ways.\n",
    "For example, you can get 6 points in two ways: 3 + 3 or 2 + 2 + 2.\n",
    "Consider 2 + 3 to be the same as 3 + 2. All that matters is how many two-pointers and three-pointers were scored, not the order in which they were scored.\n",
    "\n",
    "### What Your Function Should Do\n",
    "Write a function called TwoAndThreePointers that takes a positive integer n as an input and outputs all possible ways to represent n as a sum of 2s and 3s. Return each way is ascending order and the list of possibilities in Sort order.\n",
    "\n",
    "```\n",
    "In[1]:= TwoAndThreePointers[5]\n",
    "Out[1]= {{2, 3}}\n",
    "\n",
    "In[2]:= TwoAndThreePointers[14]\n",
    "Out[2]= {{2, 3, 3, 3, 3}, {2, 2, 2, 2, 3, 3}, {2, 2, 2, 2, 2, 2, 2}}\n",
    "\n",
    "Verify each list sums to 14:\n",
    "In[3]:= Total[%, {2}]\n",
    "Out[3]= {14, 14, 14}\n",
    "```\n",
    "\n",
    "#### More Examples\n",
    "\n",
    "```\n",
    "In[4]:= TwoAndThreePointers[3]\n",
    "Out[4]= {{3}}\n",
    "\n",
    "In[5]:= TwoAndThreePointers[6]\n",
    "Out[5]= {{3, 3}, {2, 2, 2}}\n",
    "\n",
    "In[6]:= TwoAndThreePointers[19]\n",
    "Out[6]= {{2, 2, 3, 3, 3, 3, 3}, {2, 2, 2, 2, 2, 3, 3, 3}, {2, 2, 2, 2, 2, 2, 2, 2, 3}}\n",
    "```"
   ]
  },
  {
   "cell_type": "code",
   "execution_count": 6,
   "id": "6c8ffb67-f923-4575-804a-24690554a170",
   "metadata": {},
   "outputs": [
    {
     "name": "stdout",
     "output_type": "stream",
     "text": [
      "[True]\n",
      "[2, 3]\n"
     ]
    }
   ],
   "source": [
    "# Problem: https://challenges.wolframcloud.com/challenge/getting-a-basketball-score\n",
    "\n",
    "from time import sleep\n",
    "from typing import List\n",
    "\n",
    "\n",
    "def basketball_score(n: int):\n",
    "    count = 0\n",
    "    temp = n\n",
    "    results = []\n",
    "    while n:\n",
    "        if n == 3 or n == 2:\n",
    "            twos = [2] * (count)\n",
    "            results.append(twos + [n])\n",
    "            break\n",
    "\n",
    "        if n % 3 == 0:\n",
    "            twos = [2] * count\n",
    "            threes = [3] * (n // 3)\n",
    "            results.append(twos + threes)\n",
    "\n",
    "        n -= 2\n",
    "        count += 1\n",
    "    return results\n",
    "\n",
    "def verifiy(items: List[int], n: int) -> List[bool]:\n",
    "    return [sum(i) == n for i in items]\n",
    "\n",
    "\n",
    "n = 5\n",
    "res = basketball_score(n)\n",
    "print(verifiy(res, n))\n",
    "for item in res:\n",
    "    print(item)"
   ]
  },
  {
   "cell_type": "code",
   "execution_count": 7,
   "id": "12ddaad9-c85d-45a1-b40c-52abbabe32d6",
   "metadata": {},
   "outputs": [
    {
     "name": "stdout",
     "output_type": "stream",
     "text": [
      "[True, True, True]\n",
      "[2, 3, 3, 3, 3]\n",
      "[2, 2, 2, 2, 3, 3]\n",
      "[2, 2, 2, 2, 2, 2, 2]\n"
     ]
    }
   ],
   "source": [
    "n = 14\n",
    "res = basketball_score(n)\n",
    "print(verifiy(res, n))\n",
    "for item in res:\n",
    "    print(item)"
   ]
  },
  {
   "cell_type": "code",
   "execution_count": 8,
   "id": "7af9d968-0955-4c13-abdf-e73146fb164f",
   "metadata": {},
   "outputs": [
    {
     "name": "stdout",
     "output_type": "stream",
     "text": [
      "[True]\n",
      "[3]\n"
     ]
    }
   ],
   "source": [
    "n = 3\n",
    "res = basketball_score(n)\n",
    "print(verifiy(res, n))\n",
    "for item in res:\n",
    "    print(item)"
   ]
  },
  {
   "cell_type": "code",
   "execution_count": 9,
   "id": "f14d2b19-ccde-498e-b5ea-edf5a20a54ba",
   "metadata": {},
   "outputs": [
    {
     "name": "stdout",
     "output_type": "stream",
     "text": [
      "[True, True]\n",
      "[3, 3]\n",
      "[2, 2, 2]\n"
     ]
    }
   ],
   "source": [
    "n = 6\n",
    "res = basketball_score(n)\n",
    "print(verifiy(res, n))\n",
    "for item in res:\n",
    "    print(item)"
   ]
  },
  {
   "cell_type": "code",
   "execution_count": 10,
   "id": "6b333c04-666f-475e-9343-7523016c871a",
   "metadata": {},
   "outputs": [
    {
     "name": "stdout",
     "output_type": "stream",
     "text": [
      "[True, True, True]\n",
      "[2, 2, 3, 3, 3, 3, 3]\n",
      "[2, 2, 2, 2, 2, 3, 3, 3]\n",
      "[2, 2, 2, 2, 2, 2, 2, 2, 3]\n"
     ]
    }
   ],
   "source": [
    "n = 19\n",
    "res = basketball_score(n)\n",
    "print(verifiy(res, n))\n",
    "for item in res:\n",
    "    print(item)"
   ]
  },
  {
   "cell_type": "code",
   "execution_count": 11,
   "id": "9183b47a-bf89-4039-b174-87a1e74f6d8b",
   "metadata": {},
   "outputs": [
    {
     "name": "stdout",
     "output_type": "stream",
     "text": [
      "[True, True, True, True, True, True, True, True, True]\n",
      "[2, 3, 3, 3, 3, 3, 3, 3, 3, 3, 3, 3, 3, 3, 3, 3, 3]\n",
      "[2, 2, 2, 2, 3, 3, 3, 3, 3, 3, 3, 3, 3, 3, 3, 3, 3, 3]\n",
      "[2, 2, 2, 2, 2, 2, 2, 3, 3, 3, 3, 3, 3, 3, 3, 3, 3, 3, 3]\n",
      "[2, 2, 2, 2, 2, 2, 2, 2, 2, 2, 3, 3, 3, 3, 3, 3, 3, 3, 3, 3]\n",
      "[2, 2, 2, 2, 2, 2, 2, 2, 2, 2, 2, 2, 2, 3, 3, 3, 3, 3, 3, 3, 3]\n",
      "[2, 2, 2, 2, 2, 2, 2, 2, 2, 2, 2, 2, 2, 2, 2, 2, 3, 3, 3, 3, 3, 3]\n",
      "[2, 2, 2, 2, 2, 2, 2, 2, 2, 2, 2, 2, 2, 2, 2, 2, 2, 2, 2, 3, 3, 3, 3]\n",
      "[2, 2, 2, 2, 2, 2, 2, 2, 2, 2, 2, 2, 2, 2, 2, 2, 2, 2, 2, 2, 2, 2, 3, 3]\n",
      "[2, 2, 2, 2, 2, 2, 2, 2, 2, 2, 2, 2, 2, 2, 2, 2, 2, 2, 2, 2, 2, 2, 2, 2, 2]\n"
     ]
    }
   ],
   "source": [
    "n = 50\n",
    "res = basketball_score(n)\n",
    "print(verifiy(res, n))\n",
    "for item in res:\n",
    "    print(item)"
   ]
  },
  {
   "cell_type": "code",
   "execution_count": null,
   "id": "71a2233d-10d7-4c28-ae51-a1a1a1c94556",
   "metadata": {},
   "outputs": [],
   "source": []
  }
 ],
 "metadata": {
  "kernelspec": {
   "display_name": "Python 3 (ipykernel)",
   "language": "python",
   "name": "python3"
  },
  "language_info": {
   "codemirror_mode": {
    "name": "ipython",
    "version": 3
   },
   "file_extension": ".py",
   "mimetype": "text/x-python",
   "name": "python",
   "nbconvert_exporter": "python",
   "pygments_lexer": "ipython3",
   "version": "3.11.1"
  }
 },
 "nbformat": 4,
 "nbformat_minor": 5
}
