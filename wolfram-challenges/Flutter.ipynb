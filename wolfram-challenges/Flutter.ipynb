{
 "cells": [
  {
   "cell_type": "markdown",
   "id": "0d931594-0cda-4645-a35c-6c4905ff3544",
   "metadata": {},
   "source": [
    "# [Original Problem - Wolfram](https://challenges.wolframcloud.com/challenge/flutter)\n",
    "\n",
    "## Flutter\n",
    "\n",
    "Given a function f, an expression x and a list, list f[x, y] for all y in the list.\n",
    "\n",
    "### What Your Function Should Do\n",
    "\n",
    "Write a function called Flutter that takes a function f, an expression x and a list as an input and returns the list of f[x,y] for all y in the list.\n",
    "\n",
    "```\n",
    "In[1]:=Flutter[f, 2, {a, b, c, d}]\n",
    "Out[1]={f[2, a], f[2, b], f[2, c], f[2, d]}\n",
    "\n",
    "In[2]:=Flutter[SameQ, 3, Range[6]]\n",
    "Out[2]={False, False, True, False, False, False}\n",
    "\n",
    "In[3]:=Flutter[Subtract, {1, 2}, {5, 19, 2}]\n",
    "Out[3]={{-4, -3}, {-18, -17}, {-1, 0}}\n",
    "```"
   ]
  },
  {
   "cell_type": "code",
   "execution_count": 6,
   "id": "529e80c4-ab43-45f1-83ce-ecfe4b58042a",
   "metadata": {},
   "outputs": [
    {
     "name": "stdout",
     "output_type": "stream",
     "text": [
      "[False, False, False, True, False, False, False, False, False, False]\n",
      "[[-4, -3], [-18, -17], [-1, 0]]\n",
      "[True, False, False, True, False, False, True, False, False, True, False, False, True, False, False, True, False, False, True, False]\n"
     ]
    }
   ],
   "source": [
    "from typing import Callable, Any, List\n",
    "\n",
    "# Problem: https://challenges.wolframcloud.com/challenge/flutter\n",
    "\n",
    "def flutter(f: Callable, x: Any, items: List[Any]) -> List[Callable]:\n",
    "    \"\"\"\n",
    "    params:\n",
    "        X = 2\n",
    "        L = [a, b, c, d]\n",
    "    returns:\n",
    "        {f[2, a], f[2, b], f[2, c], f[2, d]}\n",
    "    \"\"\"\n",
    "    results = []\n",
    "    for item in items:\n",
    "        results.append(f(x, item))\n",
    "    return results\n",
    "\n",
    "\n",
    "def check_equals(x: int, y: int):\n",
    "    return x == y\n",
    "\n",
    "def check_is_divisible(x: int, y: int):\n",
    "    return y % x == 0\n",
    "\n",
    "def subtract(x, y):\n",
    "    results = []\n",
    "\n",
    "    for i in x:\n",
    "        k = i - y\n",
    "        results.append(k)\n",
    "    return results\n",
    "\n",
    "res = flutter(check_equals, 3, range(10))\n",
    "print(res)\n",
    "\n",
    "res = flutter(subtract, [1, 2], [5, 19, 2])\n",
    "print(res)\n",
    "\n",
    "res = flutter(check_is_divisible, 3, range(20))\n",
    "print(res)"
   ]
  },
  {
   "cell_type": "code",
   "execution_count": null,
   "id": "97871525-e6ad-4b6d-8e9c-95463c2fe31c",
   "metadata": {},
   "outputs": [],
   "source": []
  }
 ],
 "metadata": {
  "kernelspec": {
   "display_name": "Python 3 (ipykernel)",
   "language": "python",
   "name": "python3"
  },
  "language_info": {
   "codemirror_mode": {
    "name": "ipython",
    "version": 3
   },
   "file_extension": ".py",
   "mimetype": "text/x-python",
   "name": "python",
   "nbconvert_exporter": "python",
   "pygments_lexer": "ipython3",
   "version": "3.11.1"
  }
 },
 "nbformat": 4,
 "nbformat_minor": 5
}
