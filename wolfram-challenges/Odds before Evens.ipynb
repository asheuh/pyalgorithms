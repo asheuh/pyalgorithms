{
 "cells": [
  {
   "cell_type": "markdown",
   "id": "aacea68f-a3b5-4dfd-8882-6909c1ca04d0",
   "metadata": {},
   "source": [
    "# [Original Problem - Wolfram](https://challenges.wolframcloud.com/challenge/odds-before-evens)\n",
    "\n",
    "## Odds before Evens\n",
    "\n",
    "Given a list of integers, rearrange them so that all of the odd integers appear before all of the even integers, without otherwise changing the order.\n",
    "For example, look at the following list:\n",
    "\n",
    "```\n",
    "In[1]:= {-1, 2, 8, -9, -2, -3, -6, -10, -8, 5, 7, 9, 7}\n",
    "```\n",
    "\n",
    "Rearranged, it would look like this:\n",
    "```\n",
    "In[2]:= {-1, -9, -3, 5, 7, 9, 7, 2, 8, -2, -6, -10, -8}\n",
    "```\n",
    "\n",
    "Apart from putting the odds in front, the order is the same.\n",
    "\n",
    "### What Your Function Should Do\n",
    "Write a function called OddBeforeEven that takes a list of integers and outputs a list such that all odd integers from the given list appear before even integers, without rearranging the numbers in any other way.\n",
    "\n",
    "```\n",
    "In[3]:= OddBeforeEven[{-1, 2, 8, -9, -2, -3, -6, -10, -8, 5, 7, 9, 7}]\n",
    "Out[3]= {-1, -9, -3, 5, 7, 9, 7, 2, 8, -2, -6, -10, -8}\n",
    "\n",
    "#### More Examples\n",
    "In[4]:= OddBeforeEven[{-1, -9, -3, 5, 7, 9, 7, 2, 8, -2, -6, -10, -8}]\n",
    "Out[4]= {-1, -9, -3, 5, 7, 9, 7, 2, 8, -2, -6, -10, -8}\n",
    "\n",
    "In[5]:= OddBeforeEven[{1, 100, 2, 3, 3, 7, 4, 5}]\n",
    "Out[5]= {1, 3, 3, 7, 5, 100, 2, 4}\n",
    "\n",
    "In[6]:= OddBeforeEven[{2, 2, 22, 222, 1}]\n",
    "Out[6]= {1, 2, 2, 22, 222}\n",
    "\n",
    "In[7]:= OddBeforeEven[{4, 43, 2, 2, 22, 2323, 1}]\n",
    "Out[7]= {43, 2323, 1, 4, 2, 2, 22}\n",
    "```"
   ]
  },
  {
   "cell_type": "code",
   "execution_count": 1,
   "id": "2efc921d-dbe1-421e-8a5a-378998644aa5",
   "metadata": {},
   "outputs": [
    {
     "name": "stdout",
     "output_type": "stream",
     "text": [
      "[-1, -9, -3, 5, 7, 9, 7, 2, 8, -2, -6, -10, -8]\n"
     ]
    }
   ],
   "source": [
    "# Problem: https://challenges.wolframcloud.com/challenge/odds-before-evens\n",
    "\n",
    "from typing import List\n",
    "\n",
    "\n",
    "def odds_b4_evens(numbers: List[int]) -> List[int]:\n",
    "    odds = []\n",
    "    evens = []\n",
    "    for num in numbers:\n",
    "        if num & 1:\n",
    "            odds.append(num)\n",
    "        else:\n",
    "            evens.append(num)\n",
    "\n",
    "    return odds + evens\n",
    "\n",
    "\n",
    "numbers = [-1, 2, 8, -9, -2, -3, -6, -10, -8, 5, 7, 9, 7] \n",
    "res = odds_b4_evens(numbers)\n",
    "print(res)"
   ]
  },
  {
   "cell_type": "code",
   "execution_count": null,
   "id": "696b4b1e-adf5-4d87-bd0e-217af3e0f00d",
   "metadata": {},
   "outputs": [],
   "source": []
  }
 ],
 "metadata": {
  "kernelspec": {
   "display_name": "Python 3 (ipykernel)",
   "language": "python",
   "name": "python3"
  },
  "language_info": {
   "codemirror_mode": {
    "name": "ipython",
    "version": 3
   },
   "file_extension": ".py",
   "mimetype": "text/x-python",
   "name": "python",
   "nbconvert_exporter": "python",
   "pygments_lexer": "ipython3",
   "version": "3.11.1"
  }
 },
 "nbformat": 4,
 "nbformat_minor": 5
}
