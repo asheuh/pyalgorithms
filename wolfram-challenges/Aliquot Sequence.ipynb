{
 "cells": [
  {
   "cell_type": "markdown",
   "id": "4b9548e0-c6c9-446c-895a-99f621f46f3e",
   "metadata": {},
   "source": [
    "# [Original Problem - Wolfram](https://challenges.wolframcloud.com/challenge/aliquot-sequence)\n",
    "\n",
    "## Aliquot Sequence\n",
    "\n",
    "In an aliquot sequence, each term is the sum of the proper divisors of the previous term. Write a function that finds the aliquot sequence starting with a given positive integer. Stop at 1 or before a term is repeated.\n",
    "\n",
    "The proper divisors of a number do not include the number itself. For example, the proper divisors of 6 are 1, 2, 3, and 6 is called an improper divisor.\n",
    "The aliquot sequence starting with a positive integer k can be defined in terms of the divisor function σ1(x):\n",
    "\n",
    "    s0 = k\n",
    "    sn = s(sn−1) = σ1(sn−1) − sn−1 if sn−1 > 0\n",
    "    \n",
    "where σ1(x) gives the sum of all the divisors including x. The term sn-1 is therefore subtracted since it is the improper divisor. In the Wolfram Language σ1 is implemented through DivisorSigma.\n",
    "\n",
    "For example, the proper divisors of 20 are 1, 2, 4, 5, 10, which add up to 22. The proper divisors of 22 are 1, 2, 11, which add up to 14, and so on. There are no proper divisors of 1.\n",
    "\n",
    "It is not known whether all aliquot sequences eventually terminate or become periodic. For example, the fate of the aliquot sequence for 276 is unknown. Therefore, we only want to find the sequence for numbers like 276 up to a certain number of terms, say 100.\n",
    "\n",
    "### What Your Function Should Do\n",
    "\n",
    "Write a function called AliquotSequence that finds an aliquot sequence for a given positive integer. Stop at 1 or before a term is repeated. Restrict your function so that it will not produce more than 100 terms in the aliquot sequence for the given number.\n",
    "\n",
    "```\n",
    "In[1]:= AliquotSequence[20]\n",
    "Out[1]= {20, 22, 14, 10, 8, 7, 1}\n",
    "```\n",
    "\n",
    "#### More Examples\n",
    "\n",
    "The proper divisors of 6 are 1, 2, 3, which add up to 6. If a number equals the sum of its proper divisors, it is called a perfect number.\n",
    "\n",
    "```\n",
    "In[2]:= AliquotSequence[6]\n",
    "Out[2]= {6}\n",
    "```\n",
    "\n",
    "The sum of the proper divisors of 220 and the sum of the proper divisors of 284 are both 220. If two numbers are each the sum of the proper divisors of the other, they are called an amicable pair.\n",
    "\n",
    "```\n",
    "In[3]:= AliquotSequence[220]\n",
    "Out[3]= {220, 284}\n",
    "\n",
    "In[4]:= AliquotSequence[25]\n",
    "Out[4]= {25, 6}\n",
    "```"
   ]
  },
  {
   "cell_type": "code",
   "execution_count": 1,
   "id": "fe5ca61c-1ae9-4094-afb4-44bfe590fbf9",
   "metadata": {},
   "outputs": [],
   "source": [
    "import math\n",
    "from time import sleep\n",
    "\n",
    "def aliquot_sequence(n: int):\n",
    "    # if n == 1:\n",
    "    #     return 1\n",
    "    # print(n)\n",
    "    # return aliquot_sequence(S(divisors(n)))\n",
    "    seq = [n]\n",
    "    temp = n\n",
    "\n",
    "    while n != 1:\n",
    "        n = S(divisors(n))\n",
    "        if n == temp or seq[-1] == n:\n",
    "            break\n",
    "        seq.append(n)\n",
    "    return seq\n",
    "\n",
    "def S(seq: list):\n",
    "    return sum(seq)\n",
    "\n",
    "def divisors(n: int):\n",
    "    divs = [1]\n",
    "    # m = int(math.sqrt(n))\n",
    "    # if (m * m) == n:\n",
    "    #     divs.append(m)\n",
    "\n",
    "    for i in range(2, n):\n",
    "        if n % i == 0:\n",
    "            k = n // i\n",
    "            divs.append(i)\n",
    "            # divs.append(k)\n",
    "    return divs\n"
   ]
  },
  {
   "cell_type": "code",
   "execution_count": 2,
   "id": "8d4ceb10-7cc2-4f3b-9b77-6383153e7eb4",
   "metadata": {},
   "outputs": [
    {
     "name": "stdout",
     "output_type": "stream",
     "text": [
      "[100, 117, 65, 19, 1]\n"
     ]
    }
   ],
   "source": [
    "n = 100\n",
    "res = aliquot_sequence(n)\n",
    "print(res)"
   ]
  },
  {
   "cell_type": "code",
   "execution_count": 3,
   "id": "3ff24663-d7ef-4988-b2e4-f722df7c1b42",
   "metadata": {},
   "outputs": [
    {
     "name": "stdout",
     "output_type": "stream",
     "text": [
      "[20, 22, 14, 10, 8, 7, 1]\n"
     ]
    }
   ],
   "source": [
    "n = 20\n",
    "res = aliquot_sequence(n)\n",
    "print(res)"
   ]
  },
  {
   "cell_type": "code",
   "execution_count": 4,
   "id": "beff4090-14a7-4be3-a8f9-9024f4f5242c",
   "metadata": {},
   "outputs": [
    {
     "name": "stdout",
     "output_type": "stream",
     "text": [
      "[6]\n"
     ]
    }
   ],
   "source": [
    "n = 6\n",
    "res = aliquot_sequence(n)\n",
    "print(res)"
   ]
  },
  {
   "cell_type": "code",
   "execution_count": 5,
   "id": "e0bfa4a4-0641-4fc4-8444-c8d20f467b76",
   "metadata": {},
   "outputs": [
    {
     "name": "stdout",
     "output_type": "stream",
     "text": [
      "[220, 284]\n"
     ]
    }
   ],
   "source": [
    "n = 220\n",
    "res = aliquot_sequence(n)\n",
    "print(res)"
   ]
  },
  {
   "cell_type": "code",
   "execution_count": 8,
   "id": "3f441361-f9b1-41c6-b216-6874a7562b86",
   "metadata": {},
   "outputs": [
    {
     "name": "stdout",
     "output_type": "stream",
     "text": [
      "[10000, 14211, 6329, 1]\n"
     ]
    }
   ],
   "source": [
    "n = 10000\n",
    "res = aliquot_sequence(n)\n",
    "print(res)"
   ]
  },
  {
   "cell_type": "code",
   "execution_count": null,
   "id": "94329c2c-7db8-4089-bde0-8ce0bbc02eb2",
   "metadata": {},
   "outputs": [],
   "source": []
  }
 ],
 "metadata": {
  "kernelspec": {
   "display_name": "Python 3 (ipykernel)",
   "language": "python",
   "name": "python3"
  },
  "language_info": {
   "codemirror_mode": {
    "name": "ipython",
    "version": 3
   },
   "file_extension": ".py",
   "mimetype": "text/x-python",
   "name": "python",
   "nbconvert_exporter": "python",
   "pygments_lexer": "ipython3",
   "version": "3.11.1"
  }
 },
 "nbformat": 4,
 "nbformat_minor": 5
}
