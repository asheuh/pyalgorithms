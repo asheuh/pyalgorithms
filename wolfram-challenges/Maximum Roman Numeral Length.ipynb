{
 "cells": [
  {
   "cell_type": "markdown",
   "id": "aa77246f-a7ca-4799-b67b-eadbdda31416",
   "metadata": {},
   "source": [
    "# [Original Problem - Wolfram](https://challenges.wolframcloud.com/challenge/maximum-roman-numeral-length)\n",
    "\n",
    "## Maximum Roman Numeral Length\n",
    "\n",
    "Write a function that finds the maximum length of any Roman numeral up to n.\n",
    "The first five Roman numerals are I, II, III, IV, V, and so the maximum length of any Roman numeral up to n=5 is 3.\n",
    "\n",
    "### What Your Function Should Do\n",
    "Write a function MaxRomanLength that takes a positive integer n as an input and outputs the maximum length of any Roman numeral up to n. Use RomanNumeral to generate the numerals.\n",
    "\n",
    "```\n",
    "In[1]:= MaxRomanLength[8]\n",
    "Out[1]= 4\n",
    "\n",
    "In[2]:= MaxRomanLength[100]\n",
    "Out[2]= 8\n",
    "\n",
    "In[3]:= MaxRomanLength[1000]\n",
    "Out[3]= 12\n",
    "```\n",
    "\n",
    "#### More Examples\n",
    "Here are the first five Roman numerals:\n",
    "\n",
    "```\n",
    "In[4]:= RomanNumeral[Range[5]]\n",
    "Out[4]= {I, II, III, IV, V}\n",
    "\n",
    "In[5]:= MaxRomanLength[5]\n",
    "Out[5]= 3\n",
    "```"
   ]
  },
  {
   "cell_type": "code",
   "execution_count": 3,
   "id": "16944513-6eb7-44f1-aa19-f62afa628881",
   "metadata": {},
   "outputs": [
    {
     "name": "stdout",
     "output_type": "stream",
     "text": [
      "8 --> 4\n",
      "100 --> 8\n",
      "1000 --> 12\n",
      "5000 --> 16\n"
     ]
    }
   ],
   "source": [
    "# Problem: https://challenges.wolframcloud.com/challenge/maximum-roman-numeral-length\n",
    "import math\n",
    "\n",
    "def roman_numeral(n: int):\n",
    "    # generate all roman numerals up to n\n",
    "    # n will be limitted to up to 5000\n",
    "    values = [\n",
    "        5000, 4000, 1000,\n",
    "        900, 500, 400, 100,\n",
    "        90, 50, 40, 10, 9,\n",
    "        5, 4, 1\n",
    "    ] \n",
    "    romans = [\n",
    "        'V̅', 'I̅V̅', 'M',\n",
    "        'CM', 'D', 'CD',\n",
    "        'C', 'XC', 'L',\n",
    "        'XL', 'X', 'IX',\n",
    "        'V', 'IV', 'I'\n",
    "    ]\n",
    "\n",
    "    result = ''\n",
    "    i = 0\n",
    "    while n:\n",
    "        while n >= values[i]:\n",
    "            n -= values[i]\n",
    "            result += romans[i]\n",
    "        i += 1\n",
    "    return result\n",
    "\n",
    "def max_len(n: int):\n",
    "    # Maximum Roman Numeral Length\n",
    "    max_l = -math.inf\n",
    "\n",
    "    for i in range(1, n + 1):\n",
    "        rn = roman_numeral(i)\n",
    "        l = len(rn)\n",
    "        \n",
    "        if l > max_l:\n",
    "            max_l = l\n",
    "    return max_l\n",
    "\n",
    "n = 8\n",
    "res = max_len(n)\n",
    "print(f'{n} --> {res}')\n",
    "n = 100\n",
    "res = max_len(n)\n",
    "print(f'{n} --> {res}')\n",
    "n = 1000\n",
    "res = max_len(n)\n",
    "print(f'{n} --> {res}')\n",
    "n = 5000\n",
    "res = max_len(n)\n",
    "print(f'{n} --> {res}')\n"
   ]
  },
  {
   "cell_type": "code",
   "execution_count": null,
   "id": "c05f6289-dba1-4b27-b652-73ed662f9956",
   "metadata": {},
   "outputs": [],
   "source": []
  }
 ],
 "metadata": {
  "kernelspec": {
   "display_name": "Python 3 (ipykernel)",
   "language": "python",
   "name": "python3"
  },
  "language_info": {
   "codemirror_mode": {
    "name": "ipython",
    "version": 3
   },
   "file_extension": ".py",
   "mimetype": "text/x-python",
   "name": "python",
   "nbconvert_exporter": "python",
   "pygments_lexer": "ipython3",
   "version": "3.11.1"
  }
 },
 "nbformat": 4,
 "nbformat_minor": 5
}
