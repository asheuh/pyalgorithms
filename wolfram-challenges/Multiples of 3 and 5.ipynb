{
 "cells": [
  {
   "cell_type": "markdown",
   "id": "2c801227-f6a8-4b1f-bd02-80b96e68b3cd",
   "metadata": {},
   "source": [
    "# [Original Problem - Wolfram](https://challenges.wolframcloud.com/challenge/multiples-of-3-and-5)\n",
    "\n",
    "## Multiples of 3 and 5\n",
    "\n",
    "Write a function that takes a positive integer n and returns the number of multiples of both 3 and 5 up to n.\n",
    "For example, if n=100, the result is 6:\n",
    "\n",
    "```\n",
    "In[1]:= m3 = Table[3 n, {n, 100/3}]\n",
    "Out[1]= {3, 6, 9, 12, 15, 18, 21, 24, 27, 30, 33, 36, 39, 42, 45, 48, 51, 54, 57, 60, 63, 66, 69, 72, 75, 78, 81, 84, 87, 90, 93, 96, 99}\n",
    "\n",
    "In[2]:= m5 = Table[5 n, {n, 100/5}]\n",
    "Out[2]= {5, 10, 15, 20, 25, 30, 35, 40, 45, 50, 55, 60, 65, 70, 75, 80, 85, 90, 95, 100}\n",
    "\n",
    "In[3]:= Intersection[m3, m5]\n",
    "Out[3]= {15, 30, 45, 60, 75, 90}\n",
    "```\n",
    "\n",
    "### What Your Function Should Do\n",
    "Write a function ThreeFive that takes a positive integer n and returns the number of positive integers less than or equal to n that are multiples of both 3 and 5.\n",
    "\n",
    "```\n",
    "In[5]:= ThreeFive[10]\n",
    "Out[5]= 0\n",
    "\n",
    "In[6]:= ThreeFive[20]\n",
    "Out[6]= 1\n",
    "\n",
    "In[7]:= ThreeFive[50]\n",
    "Out[7]= 3\n",
    "```\n",
    "\n",
    "#### More Examples\n",
    "\n",
    "```\n",
    "In[8]:= ThreeFive[100]\n",
    "Out[8]= 6\n",
    "\n",
    "In[9]:= ThreeFive[123456]\n",
    "Out[9]= 8230\n",
    "```"
   ]
  },
  {
   "cell_type": "code",
   "execution_count": 2,
   "id": "b416f684-a80e-4ed1-a720-99bb1f0a104f",
   "metadata": {},
   "outputs": [
    {
     "name": "stdout",
     "output_type": "stream",
     "text": [
      "8230\n"
     ]
    }
   ],
   "source": [
    "# Problem: https://challenges.wolframcloud.com/challenge/multiples-of-3-and-5\n",
    "\n",
    "\n",
    "def three_five(n: int):\n",
    "    count = 0\n",
    "    for i in range(1, n + 1):\n",
    "        if (i % 5) == 0 == (i % 3):\n",
    "            count += 1\n",
    "    return count\n",
    "\n",
    "n = 123456\n",
    "res = three_five(n)\n",
    "print(res)"
   ]
  },
  {
   "cell_type": "code",
   "execution_count": null,
   "id": "1d6e6108-c409-4eff-934f-935103ec8baa",
   "metadata": {},
   "outputs": [],
   "source": []
  }
 ],
 "metadata": {
  "kernelspec": {
   "display_name": "Python 3 (ipykernel)",
   "language": "python",
   "name": "python3"
  },
  "language_info": {
   "codemirror_mode": {
    "name": "ipython",
    "version": 3
   },
   "file_extension": ".py",
   "mimetype": "text/x-python",
   "name": "python",
   "nbconvert_exporter": "python",
   "pygments_lexer": "ipython3",
   "version": "3.11.1"
  }
 },
 "nbformat": 4,
 "nbformat_minor": 5
}
