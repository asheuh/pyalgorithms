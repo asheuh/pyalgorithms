{
 "cells": [
  {
   "cell_type": "markdown",
   "id": "dfda39e5-b34d-41be-8f44-f652ec4b9e40",
   "metadata": {},
   "source": [
    "# [Original Problem - Wolfram](https://challenges.wolframcloud.com/challenge/butterflied-strings)\n",
    "\n",
    "## Butterflied Strings\n",
    "\n",
    "Join a string with its reversal.\n",
    "To butterfly the string \"Wolfram\", take its reversal \"marfloW\" and join them to form \"WolframmarfloW\".\n",
    "\n",
    "### What Your Function Should Do\n",
    "Write a function ButterflyString that takes a string input and returns the input joined with its reversal.\n",
    "\n",
    "```\n",
    "In[1]:= ButterflyString[\"Wolfram\"]\n",
    "Out[1]= WolframmarfloW\n",
    "\n",
    "In[2]:= ButterflyString[\"butterfly\"]\n",
    "Out[2]= butterflyylfrettub\n",
    "\n",
    "In[3]:= ButterflyString[\"race\"]\n",
    "Out[3]= raceecar\n",
    "\n",
    "In[4]:= ButterflyString[\"Hello world!\"]\n",
    "Out[4]= Hello world!!dlrow olleH\n",
    "```"
   ]
  },
  {
   "cell_type": "code",
   "execution_count": 1,
   "id": "796b35b5-1032-4961-af2a-97c2317c5aaa",
   "metadata": {},
   "outputs": [
    {
     "name": "stdout",
     "output_type": "stream",
     "text": [
      "WolframmarfloW\n"
     ]
    }
   ],
   "source": [
    "# Problem: https://challenges.wolframcloud.com/challenge/butterflied-strings\n",
    "\n",
    "\n",
    "def butterflied_string(s):\n",
    "    s2 = ''.join(i for i in reversed(s)) \n",
    "    return s + s2\n",
    "\n",
    "\n",
    "s = 'Wolfram'\n",
    "res = butterflied_string(s)\n",
    "print(res)\n"
   ]
  },
  {
   "cell_type": "code",
   "execution_count": null,
   "id": "0597d783-528b-46fe-8fa0-a7d994ad0873",
   "metadata": {},
   "outputs": [],
   "source": []
  }
 ],
 "metadata": {
  "kernelspec": {
   "display_name": "Python 3 (ipykernel)",
   "language": "python",
   "name": "python3"
  },
  "language_info": {
   "codemirror_mode": {
    "name": "ipython",
    "version": 3
   },
   "file_extension": ".py",
   "mimetype": "text/x-python",
   "name": "python",
   "nbconvert_exporter": "python",
   "pygments_lexer": "ipython3",
   "version": "3.11.1"
  }
 },
 "nbformat": 4,
 "nbformat_minor": 5
}
