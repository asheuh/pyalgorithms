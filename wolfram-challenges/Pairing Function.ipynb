{
 "cells": [
  {
   "cell_type": "markdown",
   "id": "d71b1485-e14a-4732-b381-83188bca031c",
   "metadata": {},
   "source": [
    "# [Original Problem - Wolfram](https://challenges.wolframcloud.com/challenge/pairingfunction)\n",
    "\n",
    "## Pairingfunction\n",
    "\n",
    "Define a function that maps each non-negative integer coordinate pair to a number so that consecutive numbers lie on the falling diagonals in the first quadrant.\n",
    "A pairing function over a set S is a one-to-one mapping between pairs of elements of S and singletons of S.\n",
    "Thus, a pairing function over the natural numbers N={0,1,2,3,…} is a mapping between N×N and N; this is useful in many scenarios.\n",
    "There are many possible pairing functions over the naturals. Geometrically, N×N is the set of lattice points in the first quadrant of the coordinate plane. Here, the challenge is to write such a function that places consecutive numbers along falling diagonals, starting with 0.\n",
    "For more information on pairing functions, see this document.\n",
    "\n",
    "### What Your Function Should Do\n",
    "Write a pairing function called Pair that takes any two non-negative integers x and y and returns a single non-negative integer z. Going the other way, z→(x,y), each non-negative integer should be associated with a unique coordinate non-negative pair. Consecutive numbers should be placed along falling diagonals and roll over to subsequent diagonals. For example:\n",
    "\n",
    "```\n",
    "In[1]:=Pair[0, 0]\n",
    "Out[1]=0\n",
    "\n",
    "In[2]:={Pair[0, 1], Pair[1, 0]}\n",
    "Out[2]={1, 2}\n",
    "\n",
    "In[3]:={Pair[0, 2], Pair[1, 1], Pair[2, 0]}\n",
    "Out[3]={3, 4, 5}\n",
    "\n",
    "In[4]:={Pair[0, 3], Pair[1, 2], Pair[2, 1], Pair[3, 0]}\n",
    "Out[4]={6, 7, 8, 9}\n",
    "\n",
    "In[5]:={Pair[0, 4], Pair[1, 3], Pair[2, 2], Pair[3, 1], Pair[4, 0]}\n",
    "Out[5]={10, 11, 12, 13, 14}\n",
    "```"
   ]
  },
  {
   "cell_type": "code",
   "execution_count": 6,
   "id": "2279fb51-5a1e-4813-9e01-0720fad40e2d",
   "metadata": {},
   "outputs": [
    {
     "name": "stdout",
     "output_type": "stream",
     "text": [
      "Cantor Pairing Function: 14\n",
      "Cantor Pairing Function Reverse: (0, 4)\n",
      "[14, 13, 12, 11, 10]\n"
     ]
    }
   ],
   "source": [
    "# Problem: https://challenges.wolframcloud.com/challenge/pairingfunction\n",
    "# Resources: http://szudzik.com/ElegantPairing.pdf\n",
    "#          : https://en.wikipedia.org/wiki/Pairing_function\n",
    "import math\n",
    "\n",
    "\n",
    "def pairing_function(x: int, y: int):\n",
    "    # Using Cantor pairing function\n",
    "    # (1/2 * ((x + y + 1)(x + y))) + y: Solve quadratically\n",
    "    # Pair[x, y] := (x**2 + x + 2xy + 3y + y**2) // 2\n",
    "    return (x**2 + x + (2 * x * y) + (3 * y) + y**2) // 2\n",
    "\n",
    "def inverting_pairing_function(z: int):\n",
    "    # geting pairs of coordinate from a number\n",
    "    # w = x + y\n",
    "    # z =  (1/2 * ((x + y + 1)(x + y))) + y\n",
    "    # t = 1/2 * w(w+1) == (w**2 + w) / 2\n",
    "    w = math.floor((math.sqrt(8*z + 1) - 1) / 2)\n",
    "    t = (w**2 + w) // 2\n",
    "    # z = t + y\n",
    "    y = z - t\n",
    "    # w = x + y\n",
    "    x = w - y\n",
    "    return (x, y)\n",
    "\n",
    "def all_pfs(l: list):\n",
    "    results = []\n",
    "    for x, y in l:\n",
    "        z = pairing_function(x, y)\n",
    "        results.append(z)\n",
    "    return results\n",
    "\n",
    "x, y = 0, 4\n",
    "res = pairing_function(x, y)\n",
    "r = inverting_pairing_function(res)\n",
    "al = all_pfs([(0, 4), (1, 3), (2, 2), (3, 1), (4, 0)])\n",
    "print('Cantor Pairing Function:', res)\n",
    "print('Cantor Pairing Function Reverse:', r)\n",
    "print(al)"
   ]
  },
  {
   "cell_type": "code",
   "execution_count": null,
   "id": "41ee1f93-2605-4b33-b5ca-57ea5cf44087",
   "metadata": {},
   "outputs": [],
   "source": []
  }
 ],
 "metadata": {
  "kernelspec": {
   "display_name": "Python 3 (ipykernel)",
   "language": "python",
   "name": "python3"
  },
  "language_info": {
   "codemirror_mode": {
    "name": "ipython",
    "version": 3
   },
   "file_extension": ".py",
   "mimetype": "text/x-python",
   "name": "python",
   "nbconvert_exporter": "python",
   "pygments_lexer": "ipython3",
   "version": "3.11.1"
  }
 },
 "nbformat": 4,
 "nbformat_minor": 5
}
