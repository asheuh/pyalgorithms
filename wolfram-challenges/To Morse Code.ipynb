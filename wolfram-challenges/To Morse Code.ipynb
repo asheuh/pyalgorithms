{
 "cells": [
  {
   "cell_type": "markdown",
   "id": "7ee27bef-5c9c-4a61-a63d-6ee0c8ccc002",
   "metadata": {},
   "source": [
    "# [Original Problem - Wolfram](https://challenges.wolframcloud.com/challenge/write-in-morse-code)\n",
    "## Write in Morse Code\n",
    "\n",
    "Morse code is a way of transmitting text through a series of unique sounds or lights represented by dots and dashes, represented by \".\" and \"-\". Write a function that takes an English text and outputs the corresponding Morse code.\n",
    "One famous piece of Morse code is \"... --- ...\", a distress signal for \"SOS\" that stands for \"Save Our Souls\". \n",
    "\n",
    "### What Your Function Should Do\n",
    "Write a function ToMorseCode that takes a string of English text and outputs the Morse code translation. Use \"/\" to separate words. "
   ]
  },
  {
   "cell_type": "markdown",
   "id": "76684b8d-c2c5-4b0b-8878-08080b49219c",
   "metadata": {},
   "source": [
    "### Solution"
   ]
  },
  {
   "cell_type": "code",
   "execution_count": 4,
   "id": "19037082-88cd-4b3f-9044-a64702acd832",
   "metadata": {},
   "outputs": [],
   "source": [
    "# Problem: https://challenges.wolframcloud.com/challenge/write-in-morse-code\n",
    "# Resources: https://en.wikipedia.org/wiki/Morse_code\n",
    "\n",
    "MORSEALPHABET = {\n",
    "    \"a\": \".-\", \n",
    "    \"b\": \"-...\",\n",
    "    \"c\": \"-.-.\",\n",
    "    \"d\": \"-..\",\n",
    "    \"e\": \".\",\n",
    "    \"f\": \"..-.\",\n",
    "    \"g\": \"--.\",\n",
    "    \"h\": \"....\",\n",
    "    \"i\": \"..\",\n",
    "    \"j\": \".---\",\n",
    "    \"k\": \"-.-\",\n",
    "    \"l\": \".-..\",\n",
    "    \"m\": \"--\",\n",
    "    \"n\": \"-.\",\n",
    "    \"o\": \"---\",\n",
    "    \"p\": \".--.\",\n",
    "    \"q\": \"--.-\",\n",
    "    \"r\": \".-.\",\n",
    "    \"s\": \"...\",\n",
    "    \"t\": \"-\",\n",
    "    \"u\": \"..-\",\n",
    "    \"v\": \"...-\",\n",
    "    \"w\": \".--\",\n",
    "    \"x\": \"-..-\",\n",
    "    \"y\": \"-.--\",\n",
    "    \"z\": \"--..\"\n",
    "}\n",
    "\n",
    "def to_morse_code(text):\n",
    "    morse_code = ''\n",
    "    for char in text:\n",
    "        if char == ' ':\n",
    "            morse_code += ' /'\n",
    "            continue\n",
    "\n",
    "        if char in \",.'\":\n",
    "            morse_code += f' {char}'\n",
    "            continue\n",
    "\n",
    "        c = char.lower()\n",
    "        code = MORSEALPHABET[c]\n",
    "        morse_code += f\" {code}\"\n",
    "    return morse_code"
   ]
  },
  {
   "cell_type": "code",
   "execution_count": 6,
   "id": "a2bb99d6-6e61-4ca4-b686-1fb7208d44b3",
   "metadata": {},
   "outputs": [
    {
     "data": {
      "text/plain": [
       "\" .-- .... . -. / .. -. / - .... . / -.-. --- ..- .-. ... . / --- ..-. / .... ..- -- .- -. / . ...- . -. - ... , / .. - / -... . -.-. --- -- . ... / -. . -.-. . ... ... .- .-. -.-- / / ..-. --- .-. / --- -. . / .--. . --- .--. .-.. . / - --- / -.. .. ... ... --- .-.. ...- . / - .... . / .--. --- .-.. .. - .. -.-. .- .-.. / -... .- -. -.. ... / .-- .... .. -.-. .... / .... .- ...- . / -.-. --- -. -. . -.-. - . -.. / / - .... . -- / .-- .. - .... / .- -. --- - .... . .-. , / .- -. -.. / - --- / .- ... ... ..- -- . , / .- -- --- -. --. / - .... . / .--. --- .-- . .-. ... / --- ..-. / - .... . / . .- .-. - .... , / - .... . / / ... . .--. .- .-. .- - . / .- -. -.. / . --.- ..- .- .-.. / ... - .- - .. --- -. / - --- / .-- .... .. -.-. .... / - .... . / .-.. .- .-- ... / --- ..-. / -. .- - ..- .-. . / .- -. -.. / --- ..-. / / -. .- - ..- .-. . ' ... / --. --- -.. / . -. - .. - .-.. . / - .... . -- , / .- / -.. . -.-. . -. - / .-. . ... .--. . -.-. - / - --- / - .... . / --- .--. .. -. .. --- -. ... / --- ..-. / / -- .- -. -.- .. -. -.. / .-. . --.- ..- .. .-. . ... / - .... .- - / - .... . -.-- / ... .... --- ..- .-.. -.. / -.. . -.-. .-.. .- .-. . / - .... . / -.-. .- ..- ... . ... / .-- .... .. -.-. .... / .. -- .--. . .-.. / - .... . -- / / - --- / - .... . / ... . .--. .- .-. .- - .. --- -. .\""
      ]
     },
     "execution_count": 6,
     "metadata": {},
     "output_type": "execute_result"
    }
   ],
   "source": [
    "text = \"When in the Course of human events, it becomes necessary  for one people to dissolve the political bands which have connected  them with another, and to assume, among the Powers of the earth, the  separate and equal station to which the Laws of Nature and of  Nature's God entitle them, a decent respect to the opinions of  mankind requires that they should declare the causes which impel them  to the separation.\"\n",
    "res = to_morse_code(text)\n",
    "res"
   ]
  },
  {
   "cell_type": "code",
   "execution_count": null,
   "id": "43587e52-4d9c-4df8-82b8-c08979499138",
   "metadata": {},
   "outputs": [],
   "source": []
  }
 ],
 "metadata": {
  "kernelspec": {
   "display_name": "Python 3 (ipykernel)",
   "language": "python",
   "name": "python3"
  },
  "language_info": {
   "codemirror_mode": {
    "name": "ipython",
    "version": 3
   },
   "file_extension": ".py",
   "mimetype": "text/x-python",
   "name": "python",
   "nbconvert_exporter": "python",
   "pygments_lexer": "ipython3",
   "version": "3.11.1"
  }
 },
 "nbformat": 4,
 "nbformat_minor": 5
}
