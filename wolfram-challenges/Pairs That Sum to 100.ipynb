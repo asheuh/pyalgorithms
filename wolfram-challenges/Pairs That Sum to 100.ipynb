{
 "cells": [
  {
   "cell_type": "markdown",
   "id": "c352ed81-7dd3-40c3-bda9-da72096bdd6e",
   "metadata": {},
   "source": [
    "\n",
    "# [Original Problem - Wolfram](https://challenges.wolframcloud.com/challenge/pairs-that-sum-to-100)\n",
    "\n",
    "## Pairs That Sum to 100\n",
    "\n",
    "Given a list of integers, find all pairs that sum to 100.\n",
    "The list {52, 1, 50, 48, 50, 51, 52} yields the two pairs {48, 52} and {50, 50}.\n",
    "\n",
    "### What Your Function Should Do\n",
    "Write a function named PairsAddToHundred that takes a list of integers and returns a list of all pairs of integers from the list that sum to 100.\n",
    "\n",
    "```\n",
    "In[1]:= PairsAddToHundred[{62, 116, 181, 86, 60, 98, -16, 73, 131, 16, 80, -81, 40}]\n",
    "Out[1]= {{40, 60}, {-16, 116}, {-81, 181}}\n",
    "```\n",
    "\n",
    "#### More Examples\n",
    "There are two pairs that add to 100, corresponding to two choices for 52:\n",
    "\n",
    "```\n",
    "In[2]:= PairsAddToHundred[{52, 1, 48, 50, 51, 52} ]\n",
    "Out[2]= {{48, 52}, {48, 52}}\n",
    "\n",
    "Here there are four pairs, corresponding to two choices for 0 and two choices for 100:\n",
    "In[3]:= PairsAddToHundred[{100, 0, 100, 0}]\n",
    "Out[3]= {{0, 100}, {0, 100}, {0, 100}, {0, 100}}\n",
    "\n",
    "In[4]:= PairsAddToHundred[{28, 34, 84, 57, 55, 0, 27, 105, 131, 1, 95, 76, 190, 16, 142}]\n",
    "Out[4]= {{16, 84}}\n",
    "\n",
    "In[5]:= PairsAddToHundred[{1, 99, 20}]\n",
    "Out[5]= {{1, 99}}\n",
    "\n",
    "In[6]:= PairsAddToHundred[{-41, -80, -35, -71, -56, 1, -7, -22, -74, -63}]\n",
    "Out[6]= {}\n",
    "\n",
    "In[7]:= PairsAddToHundred[\n",
    "    {\n",
    "        34, -65, -40, 12, 174, 44, -186, 169, -136, 153, -15, 127, 29, 15, -87, 191,\n",
    "        102, -3, 26, -175, 36, 21, 177, -135, -77, 138, 166, -140, -187, 156, -88, \n",
    "        100, 183, -81, -68, -18, 120, 37, -167, -104, -145, -59, 160, -105, -53, -120,\n",
    "        70, -46, 172, 22, 56, -134, -8, -174, -57, 39, 84, -50, 19, -106, -133, -161,\n",
    "        -169, 171, 108, -45, 122, -55, 61, 25, 24, 14, -17, 135, 114, 188, -14, -7,\n",
    "        -25, -61, 69, 52, -72, -125, 20, 149, -132, 199, -13, -170, 157, -4, -38, 168,\n",
    "        89, -124, 85, 8, 189, 196\n",
    "    }\n",
    "]\n",
    "Out[7]= {{44, 56}, {39, 61}, {15, 85}, {-8, 108}, {-14, 114}, {-38, 138}, {-53, 153}, {-57, 157}, {-68, 168}, {-72, 172}, {-77, 177}, {-88, 188}}\n",
    "```"
   ]
  },
  {
   "cell_type": "code",
   "execution_count": 11,
   "id": "f2861990-055d-42df-aa77-c4b646aabb37",
   "metadata": {},
   "outputs": [
    {
     "name": "stdout",
     "output_type": "stream",
     "text": [
      "[(44, 56), (153, -53), (15, 85), (177, -77), (138, -38), (-88, 188), (-68, 168), (172, -72), (-8, 108), (-57, 157), (39, 61), (114, -14)]\n"
     ]
    }
   ],
   "source": [
    "# Problem: https://challenges.wolframcloud.com/challenge/pairs-that-sum-to-100\n",
    "\n",
    "\n",
    "from typing import List, Tuple\n",
    "\n",
    "def pairs_sum_target(numbers: List[int], target: int) -> List[Tuple[int,int]]:\n",
    "    n = len(numbers)\n",
    "    results = []\n",
    "\n",
    "    for i in range(n):\n",
    "        for j in range(i + 1, n):\n",
    "            x, y = numbers[i],  numbers[j]\n",
    "            k = x + y\n",
    "            \n",
    "            if k == target:\n",
    "                results.append((x, y))\n",
    "    return results\n",
    "\n",
    "def pairs_sum_target_optimized(numbers: List[int], target: int) -> List[Tuple[int,int]]:\n",
    "    seen = {}\n",
    "    results = []\n",
    "    for index, num in enumerate(numbers):\n",
    "        if num in seen:\n",
    "            i = seen[num]\n",
    "            prev_num = numbers[i]\n",
    "            results.append((prev_num, num))\n",
    "        else:\n",
    "            diff = target - num\n",
    "            seen[diff] = index\n",
    "    return results\n",
    "\n",
    "numbers = [34, -65, -40, 12, 174, 44, -186, 169, -136, 153, -15, 127, 29, 15, -87, 191, 102, -3, 26, -175, 36, 21, 177, -135, -77, 138, 166, -140, -187, 156, -88, 100, 183, -81, -68, -18, 120, 37, -167, -104, -145, -59, 160, -105, -53, -120, 70, -46, 172, 22, 56, -134, -8, -174, -57, 39, 84, -50, 19, -106, -133, -161, -169, 171, 108, -45, 122, -55, 61, 25, 24, 14, -17, 135, 114, 188, -14, -7, -25, -61, 69, 52, -72, -125, 20, 149, -132, 199, -13, -170, 157, -4, -38, 168, 89, -124, 85, 8, 189, 196] \n",
    "res = pairs_sum_target(numbers, 100)\n",
    "print(res)"
   ]
  },
  {
   "cell_type": "code",
   "execution_count": 12,
   "id": "ecf3c183-7fc7-4132-ae6a-150bfe06ad79",
   "metadata": {},
   "outputs": [
    {
     "name": "stdout",
     "output_type": "stream",
     "text": [
      "[(177, -77), (153, -53), (44, 56), (-8, 108), (39, 61), (-88, 188), (114, -14), (172, -72), (-57, 157), (138, -38), (-68, 168), (15, 85)]\n"
     ]
    }
   ],
   "source": [
    "numbers = [34, -65, -40, 12, 174, 44, -186, 169, -136, 153, -15, 127, 29, 15, -87, 191, 102, -3, 26, -175, 36, 21, 177, -135, -77, 138, 166, -140, -187, 156, -88, 100, 183, -81, -68, -18, 120, 37, -167, -104, -145, -59, 160, -105, -53, -120, 70, -46, 172, 22, 56, -134, -8, -174, -57, 39, 84, -50, 19, -106, -133, -161, -169, 171, 108, -45, 122, -55, 61, 25, 24, 14, -17, 135, 114, 188, -14, -7, -25, -61, 69, 52, -72, -125, 20, 149, -132, 199, -13, -170, 157, -4, -38, 168, 89, -124, 85, 8, 189, 196] \n",
    "res = pairs_sum_target_optimized(numbers, 100)\n",
    "print(res)"
   ]
  },
  {
   "cell_type": "code",
   "execution_count": null,
   "id": "eef2db18-c0ec-46a2-9996-ecdaea8e6462",
   "metadata": {},
   "outputs": [],
   "source": []
  }
 ],
 "metadata": {
  "kernelspec": {
   "display_name": "Python 3 (ipykernel)",
   "language": "python",
   "name": "python3"
  },
  "language_info": {
   "codemirror_mode": {
    "name": "ipython",
    "version": 3
   },
   "file_extension": ".py",
   "mimetype": "text/x-python",
   "name": "python",
   "nbconvert_exporter": "python",
   "pygments_lexer": "ipython3",
   "version": "3.11.1"
  }
 },
 "nbformat": 4,
 "nbformat_minor": 5
}
